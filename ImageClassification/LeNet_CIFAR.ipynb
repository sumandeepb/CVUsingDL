{
 "cells": [
  {
   "cell_type": "markdown",
   "metadata": {},
   "source": [
    "# Image Classification using LeNet CNN\n",
    "## CIFAR-10 Dataset - 10 classes of animals and objects"
   ]
  },
  {
   "cell_type": "code",
   "execution_count": null,
   "metadata": {},
   "outputs": [],
   "source": [
    "# import the necessary packages\n",
    "from LeNet import LeNet\n",
    "from sklearn.model_selection import train_test_split\n",
    "from keras.datasets import cifar10\n",
    "from keras.optimizers import RMSprop\n",
    "from keras.utils import np_utils\n",
    "from keras import backend as K\n",
    "import numpy as np\n",
    "import argparse\n",
    "import cv2"
   ]
  },
  {
   "cell_type": "markdown",
   "metadata": {},
   "source": [
    "## Load the data"
   ]
  },
  {
   "cell_type": "code",
   "execution_count": null,
   "metadata": {},
   "outputs": [],
   "source": [
    "# grab the CIFAR-10 dataset (may take time the first time)\n",
    "print(\"[INFO] downloading CIFAR-10...\")\n",
    "((trainData, trainLabels), (testData, testLabels)) = cifar10.load_data()"
   ]
  },
  {
   "cell_type": "markdown",
   "metadata": {},
   "source": [
    "## Prepare the data"
   ]
  },
  {
   "cell_type": "code",
   "execution_count": null,
   "metadata": {},
   "outputs": [],
   "source": [
    "# parameters for CIFAR-10 data set\n",
    "num_classes = 10\n",
    "image_width = 32\n",
    "image_height = 32\n",
    "image_channels = 3"
   ]
  },
  {
   "cell_type": "code",
   "execution_count": null,
   "metadata": {},
   "outputs": [],
   "source": [
    "# shape the input data using \"channels last\" ordering\n",
    "# num_samples x rows x columns x depth\n",
    "trainData = trainData.reshape(\n",
    "        (trainData.shape[0], image_height, image_width, image_channels))\n",
    "testData = testData.reshape(\n",
    "        (testData.shape[0], image_height, image_width, image_channels))"
   ]
  },
  {
   "cell_type": "code",
   "execution_count": null,
   "metadata": {},
   "outputs": [],
   "source": [
    "# scale data to the range of [0.0, 1.0]\n",
    "trainData = trainData.astype(\"float32\") / 255.0\n",
    "testData = testData.astype(\"float32\") / 255.0"
   ]
  },
  {
   "cell_type": "code",
   "execution_count": null,
   "metadata": {},
   "outputs": [],
   "source": [
    "# transform the training and testing labels into vectors in the\n",
    "# range [0, classes] -- this generates a vector for each label,\n",
    "# where the index of the label is set to `1` and all other entries\n",
    "# to `0`; in the case of CIFAR-10, there are 10 class labels\n",
    "trainLabels = np_utils.to_categorical(trainLabels, num_classes)  # one hot encoding\n",
    "testLabels = np_utils.to_categorical(testLabels, num_classes)"
   ]
  },
  {
   "cell_type": "markdown",
   "metadata": {},
   "source": [
    "## Train Model"
   ]
  },
  {
   "cell_type": "code",
   "execution_count": null,
   "metadata": {},
   "outputs": [],
   "source": [
    "# initialize the model\n",
    "print(\"[INFO] compiling model...\")\n",
    "model = LeNet.build(numChannels=image_channels, \n",
    "                    imgRows=image_height, imgCols=image_width,\n",
    "                    numClasses=num_classes,\n",
    "                    weightsPath=None)\n",
    "\n",
    "# initialize the optimizer\n",
    "opt = RMSprop(lr=0.0001, decay=1e-6)  # RMS Prop\n",
    "\n",
    "# build the model\n",
    "model.compile(loss=\"categorical_crossentropy\", # Soft-Max\n",
    "              optimizer=opt, metrics=[\"accuracy\"])"
   ]
  },
  {
   "cell_type": "code",
   "execution_count": null,
   "metadata": {},
   "outputs": [],
   "source": [
    "# initialize hyper parameters\n",
    "batch_size = 128\n",
    "epochs = 1\n",
    "\n",
    "print(\"[INFO] training...\")\n",
    "model.fit(trainData, trainLabels, batch_size=batch_size,\n",
    "          epochs=epochs, verbose=1)"
   ]
  },
  {
   "cell_type": "code",
   "execution_count": null,
   "metadata": {},
   "outputs": [],
   "source": [
    "# show the accuracy on the testing set\n",
    "print(\"[INFO] evaluating...\")\n",
    "(loss, accuracy) = model.evaluate(testData, testLabels,\n",
    "                                  batch_size=batch_size, verbose=1)\n",
    "print(\"[INFO] accuracy: {:.2f}%\".format(accuracy * 100))"
   ]
  },
  {
   "cell_type": "code",
   "execution_count": null,
   "metadata": {},
   "outputs": [],
   "source": [
    "model.save_weights(\"lenet_cifar_test.hdf5\", overwrite=True)"
   ]
  },
  {
   "cell_type": "markdown",
   "metadata": {},
   "source": [
    "## Evaluate Pre-trained Model"
   ]
  },
  {
   "cell_type": "code",
   "execution_count": null,
   "metadata": {},
   "outputs": [],
   "source": [
    "# load the model weights\n",
    "print(\"[INFO] compiling model...\")\n",
    "model = LeNet.build(numChannels=image_channels, \n",
    "                    imgRows=image_height, imgCols=image_width,\n",
    "                    numClasses=num_classes,\n",
    "                    weightsPath=\"weights/lenet_weights_cifar.hdf5\")\n",
    "\n",
    "# initialize the optimizer\n",
    "opt = RMSprop(lr=0.0001, decay=1e-6)  # RMS Prop\n",
    "\n",
    "# build the model\n",
    "model.compile(loss=\"categorical_crossentropy\", # Soft-Max\n",
    "              optimizer=opt, metrics=[\"accuracy\"])"
   ]
  },
  {
   "cell_type": "code",
   "execution_count": null,
   "metadata": {},
   "outputs": [],
   "source": [
    "# show the accuracy on the testing set\n",
    "print(\"[INFO] evaluating...\")\n",
    "(loss, accuracy) = model.evaluate(testData, testLabels,\n",
    "                                  batch_size=batch_size, verbose=1)\n",
    "print(\"[INFO] accuracy: {:.2f}%\".format(accuracy * 100))"
   ]
  },
  {
   "cell_type": "markdown",
   "metadata": {},
   "source": [
    "## Model Predictions"
   ]
  },
  {
   "cell_type": "code",
   "execution_count": null,
   "metadata": {
    "scrolled": true
   },
   "outputs": [],
   "source": [
    "# set prediction parameters\n",
    "num_predictions = 10\n",
    "\n",
    "# randomly select a few testing digits\n",
    "for i in np.random.choice(np.arange(0, len(testLabels)), size=(num_predictions,)):\n",
    "    # classify the digit\n",
    "    probs = model.predict(testData[np.newaxis, i])\n",
    "    prediction = probs.argmax(axis=1)\n",
    "\n",
    "    # extract the image from the testData\n",
    "    chR = (testData[i][:, :, 0] * 255).astype(\"uint8\")\n",
    "    chG = (testData[i][:, :, 1] * 255).astype(\"uint8\")\n",
    "    chB = (testData[i][:, :, 2] * 255).astype(\"uint8\")\n",
    "\n",
    "    # merge the channels into one image\n",
    "    image = cv2.merge((chB, chG, chR))\n",
    "\n",
    "    # resize the image from a 32 x 32 image to a 96 x 96 image so we can better see it\n",
    "    image = cv2.resize(image, (96, 96), interpolation=cv2.INTER_LINEAR)\n",
    "\n",
    "    print(\"[INFO] Predicted: {}, Actual: {}\".format(\n",
    "        prediction[0], np.argmax(testLabels[i])))\n",
    "\n",
    "    # show the image and prediction\n",
    "    classLabels = ['airplane', 'automobile', 'bird', 'cat',\n",
    "                   'deer', 'dog', 'frog', 'horse', 'ship', 'truck']\n",
    "    cv2.putText(image, classLabels[prediction[0]], (5, 20),\n",
    "                cv2.FONT_HERSHEY_SIMPLEX, 0.75, (0, 255, 0), 2)\n",
    "    cv2.imshow(\"Object\", image)\n",
    "    cv2.waitKey(0)\n",
    "    \n",
    "# close the display window\n",
    "cv2.destroyAllWindows()"
   ]
  },
  {
   "cell_type": "code",
   "execution_count": null,
   "metadata": {},
   "outputs": [],
   "source": []
  }
 ],
 "metadata": {
  "kernelspec": {
   "display_name": "Python 3",
   "language": "python",
   "name": "python3"
  },
  "language_info": {
   "codemirror_mode": {
    "name": "ipython",
    "version": 3
   },
   "file_extension": ".py",
   "mimetype": "text/x-python",
   "name": "python",
   "nbconvert_exporter": "python",
   "pygments_lexer": "ipython3",
   "version": "3.6.6"
  }
 },
 "nbformat": 4,
 "nbformat_minor": 2
}
