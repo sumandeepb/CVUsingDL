{
 "cells": [
  {
   "cell_type": "markdown",
   "metadata": {},
   "source": [
    "# Object Tracking using Recurrent YOLO"
   ]
  },
  {
   "cell_type": "code",
   "execution_count": null,
   "metadata": {},
   "outputs": [],
   "source": [
    "# import the required modules\n",
    "import os\n",
    "import sys\n",
    "import cv2\n",
    "import ROLO_utils as utils"
   ]
  },
  {
   "cell_type": "markdown",
   "metadata": {},
   "source": [
    "## Load Test Data Sequence"
   ]
  },
  {
   "cell_type": "code",
   "execution_count": null,
   "metadata": {},
   "outputs": [],
   "source": [
    "# test sequence parameters\n",
    "num_steps = 6\n",
    "w_img, h_img = [360, 240]\n",
    "sequence_name = 'Car4'\n",
    "\n",
    "# test sequence paths\n",
    "img_fold_path = os.path.join('data', sequence_name, 'img/')\n",
    "gt_file_path = os.path.join('data', sequence_name, 'groundtruth_rect.txt')\n",
    "yolo_out_path = os.path.join('data', sequence_name, 'yolo_out/')\n",
    "rolo_out_path = os.path.join('data', sequence_name, 'rolo_out_test/')\n",
    "\n",
    "# load test sequence data\n",
    "paths_imgs = utils.load_folder(img_fold_path)\n",
    "lines = utils.load_dataset_gt(gt_file_path)\n",
    "paths_rolo = utils.load_folder(rolo_out_path)"
   ]
  },
  {
   "cell_type": "markdown",
   "metadata": {},
   "source": [
    "## Drawing Function"
   ]
  },
  {
   "cell_type": "code",
   "execution_count": null,
   "metadata": {},
   "outputs": [],
   "source": [
    "# function to draw ground truth, YOLO detection, ROLO tracking output\n",
    "def draw_3_locations(img, gt_location, yolo_location, rolo_location):\n",
    "    img_cp = img.copy()\n",
    "    for i in range(3):  # b-g-r channels\n",
    "        if i == 0:\n",
    "            location = gt_location\n",
    "            color = (0, 0, 255)   # red for gt\n",
    "        elif i == 1:\n",
    "            location = yolo_location\n",
    "            color = (255, 0, 0)   # blue for yolo\n",
    "        elif i == 2:\n",
    "            location = rolo_location\n",
    "            color = (0, 255, 0)   # green for rolo\n",
    "        x = int(location[0])\n",
    "        y = int(location[1])\n",
    "        w = int(location[2])\n",
    "        h = int(location[3])\n",
    "        if i == 0:\n",
    "            #cv2.rectangle(img_cp, (x, y), (x+w, y+h), color, 2)\n",
    "            pass\n",
    "        elif i == 1:\n",
    "            cv2.rectangle(img_cp, (x-w//2, y-h//2), (x+w//2, y+h//2), color, 2)\n",
    "            pass\n",
    "        elif i == 2:\n",
    "            cv2.rectangle(img_cp, (x-w//2, y-h//2), (x+w//2, y+h//2), color, 2)\n",
    "            pass\n",
    "\n",
    "    return img_cp"
   ]
  },
  {
   "cell_type": "markdown",
   "metadata": {},
   "source": [
    "## Evaluate Test Sequence"
   ]
  },
  {
   "cell_type": "code",
   "execution_count": null,
   "metadata": {},
   "outputs": [],
   "source": [
    "total = 0\n",
    "rolo_avgloss = 0\n",
    "yolo_avgloss = 0\n",
    "for i in range(len(paths_rolo) - num_steps):\n",
    "    id = i + 1\n",
    "    test_id = id + num_steps - 2  # * num_steps + 1\n",
    "\n",
    "    path = paths_imgs[test_id]\n",
    "    img = utils.file_to_img(path)\n",
    "        \n",
    "    if(img is None):\n",
    "        break\n",
    "\n",
    "    gt_location = utils.find_gt_location(lines, test_id - 1)\n",
    "    print('gt: ' + str(test_id), gt_location)\n",
    "\n",
    "    yolo_location = utils.find_yolo_location(yolo_out_path, test_id)\n",
    "    yolo_location = utils.locations_normal(w_img, h_img, yolo_location)\n",
    "    print('yolo: ', yolo_location)\n",
    "\n",
    "    rolo_location = utils.find_rolo_location(rolo_out_path, test_id)\n",
    "    rolo_location = utils.locations_normal(w_img, h_img, rolo_location)\n",
    "    print('rolo: ', rolo_location)\n",
    "\n",
    "    frame = draw_3_locations(img, gt_location, yolo_location, rolo_location)\n",
    "\n",
    "    cv2.imshow('frame', frame)\n",
    "    cv2.waitKey(50)\n",
    "\n",
    "    rolo_loss = utils.cal_rolo_IOU(rolo_location, gt_location)\n",
    "    rolo_avgloss += rolo_loss\n",
    "    yolo_loss = utils.cal_yolo_IOU(yolo_location, gt_location)\n",
    "    yolo_avgloss += yolo_loss\n",
    "    total += 1"
   ]
  },
  {
   "cell_type": "code",
   "execution_count": null,
   "metadata": {},
   "outputs": [],
   "source": [
    "rolo_avgloss /= total\n",
    "yolo_avgloss /= total\n",
    "print(\"yolo_avg_iou = \", yolo_avgloss)\n",
    "print(\"rolo_avg_iou = \", rolo_avgloss)\n",
    "cv2.destroyAllWindows()"
   ]
  }
 ],
 "metadata": {
  "kernelspec": {
   "display_name": "Python 3",
   "language": "python",
   "name": "python3"
  },
  "language_info": {
   "codemirror_mode": {
    "name": "ipython",
    "version": 3
   },
   "file_extension": ".py",
   "mimetype": "text/x-python",
   "name": "python",
   "nbconvert_exporter": "python",
   "pygments_lexer": "ipython3",
   "version": "3.6.6"
  }
 },
 "nbformat": 4,
 "nbformat_minor": 2
}
