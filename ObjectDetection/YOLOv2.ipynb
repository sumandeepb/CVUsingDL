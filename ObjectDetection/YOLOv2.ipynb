{
 "cells": [
  {
   "cell_type": "markdown",
   "metadata": {},
   "source": [
    "# Object Detection using YOLO V2\n",
    "# Trained using COCO Dataset - 80 classes"
   ]
  },
  {
   "cell_type": "code",
   "execution_count": null,
   "metadata": {},
   "outputs": [],
   "source": [
    "# import the needed modules\n",
    "import os\n",
    "from matplotlib.pyplot import imshow\n",
    "import scipy.io\n",
    "import scipy.misc\n",
    "import numpy as np\n",
    "from PIL import Image\n",
    "\n",
    "from keras import backend as K\n",
    "from keras.models import load_model\n",
    "\n",
    "# The below provided fucntions will be used from yolo_utils.py\n",
    "from yolo_utils import read_classes, read_anchors, generate_colors, preprocess_image, draw_boxes\n",
    "\n",
    "# The below functions from the yad2k library will be used\n",
    "from keras_yolo import yolo_head, yolo_eval"
   ]
  },
  {
   "cell_type": "markdown",
   "metadata": {},
   "source": [
    "## Load Pre-trained Model"
   ]
  },
  {
   "cell_type": "code",
   "execution_count": null,
   "metadata": {},
   "outputs": [],
   "source": [
    "# Loading the classes and the anchor boxes\n",
    "class_names = read_classes(\"weights/yolov2_classes.txt\")\n",
    "anchors = read_anchors(\"weights/yolov2_anchors.txt\")\n",
    "\n",
    "# Load the pretrained model\n",
    "yolo_model = load_model(\"weights/yolov2.h5\")\n",
    "\n",
    "# Convert final layer features to bounding box parameters\n",
    "yolo_outputs = yolo_head(yolo_model.output, anchors, len(class_names))"
   ]
  },
  {
   "cell_type": "code",
   "execution_count": null,
   "metadata": {},
   "outputs": [],
   "source": [
    "# Print the summary of the model\n",
    "yolo_model.summary()"
   ]
  },
  {
   "cell_type": "markdown",
   "metadata": {},
   "source": [
    "## Load Test Image"
   ]
  },
  {
   "cell_type": "code",
   "execution_count": null,
   "metadata": {},
   "outputs": [],
   "source": [
    "# load the image to be fed through the network\n",
    "input_image_name = \"data/\" + \"test.jpg\"\n",
    "input_image = Image.open(input_image_name)\n",
    "\n",
    "# Show input image\n",
    "imshow(input_image)"
   ]
  },
  {
   "cell_type": "code",
   "execution_count": null,
   "metadata": {},
   "outputs": [],
   "source": [
    "# Obtaining the dimensions of the input image\n",
    "width, height = input_image.size\n",
    "width = np.array(width, dtype=float)\n",
    "height = np.array(height, dtype=float)\n",
    "\n",
    "# Assign the shape of the input image to image_shapr variable\n",
    "image_shape = (height, width)"
   ]
  },
  {
   "cell_type": "code",
   "execution_count": null,
   "metadata": {},
   "outputs": [],
   "source": [
    "# Preprocess the input image before feeding into the convolutional network\n",
    "image, image_data = preprocess_image(input_image_name, model_image_size=(608, 608))"
   ]
  },
  {
   "cell_type": "markdown",
   "metadata": {},
   "source": [
    "# Evaluate Test Image"
   ]
  },
  {
   "cell_type": "code",
   "execution_count": null,
   "metadata": {},
   "outputs": [],
   "source": [
    "# yolo_eval function selects the best boxes using filtering and \n",
    "# non-max suppression techniques.\n",
    "# scale yolo_outputs to test image size\n",
    "boxes, scores, classes = yolo_eval(yolo_outputs, image_shape)"
   ]
  },
  {
   "cell_type": "code",
   "execution_count": null,
   "metadata": {},
   "outputs": [],
   "source": [
    "# Initiate a session\n",
    "sess = K.get_session()\n",
    "\n",
    "# Run the session\n",
    "out_scores, out_boxes, out_classes = sess.run([scores, boxes, classes], \n",
    "                                              feed_dict={\n",
    "                                                  yolo_model.input: image_data,\n",
    "                                                  K.learning_phase(): 0\n",
    "                                              })\n",
    "\n",
    "# Print the results\n",
    "print('Found {} boxes for {}'.format(len(out_boxes), input_image_name))"
   ]
  },
  {
   "cell_type": "code",
   "execution_count": null,
   "metadata": {},
   "outputs": [],
   "source": [
    "# Produce the colors for the bounding boxs\n",
    "colors = generate_colors(class_names)\n",
    "\n",
    "# Draw the bounding boxes\n",
    "draw_boxes(image, out_scores, out_boxes, out_classes, class_names, colors)\n",
    "\n",
    "# Show output image\n",
    "imshow(image)"
   ]
  },
  {
   "cell_type": "code",
   "execution_count": null,
   "metadata": {},
   "outputs": [],
   "source": []
  }
 ],
 "metadata": {
  "kernelspec": {
   "display_name": "Python 3",
   "language": "python",
   "name": "python3"
  },
  "language_info": {
   "codemirror_mode": {
    "name": "ipython",
    "version": 3
   },
   "file_extension": ".py",
   "mimetype": "text/x-python",
   "name": "python",
   "nbconvert_exporter": "python",
   "pygments_lexer": "ipython3",
   "version": "3.6.6"
  }
 },
 "nbformat": 4,
 "nbformat_minor": 2
}
